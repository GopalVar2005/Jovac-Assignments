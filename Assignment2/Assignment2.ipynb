{
 "cells": [
  {
   "cell_type": "markdown",
   "id": "d4f19133",
   "metadata": {},
   "source": [
    "Task 1-> Creating Arrays\n",
    "1. Write a Python program to:\n",
    "i. Create a 1D NumPy array of 10 integers ranging from 1 to 10."
   ]
  },
  {
   "cell_type": "code",
   "execution_count": 1,
   "id": "9f6fdbb8",
   "metadata": {},
   "outputs": [
    {
     "name": "stdout",
     "output_type": "stream",
     "text": [
      "[ 1  2  3  4  5  6  7  8  9 10]\n"
     ]
    }
   ],
   "source": [
    "import numpy as np\n",
    "arr1=np.arange(1,11)\n",
    "print(arr1)"
   ]
  },
  {
   "cell_type": "markdown",
   "id": "9505ad5e",
   "metadata": {},
   "source": [
    "ii. Create a 2D NumPy array of shape (3, 3) with integers from 1\n",
    "to 9?"
   ]
  },
  {
   "cell_type": "code",
   "execution_count": 2,
   "id": "e50eaa7a",
   "metadata": {},
   "outputs": [
    {
     "name": "stdout",
     "output_type": "stream",
     "text": [
      "[[1 2 3]\n",
      " [4 5 6]\n",
      " [7 8 9]]\n"
     ]
    }
   ],
   "source": [
    "arr2=np.arange(1,10).reshape(3,3)\n",
    "print(arr2)"
   ]
  },
  {
   "cell_type": "markdown",
   "id": "495dfef4",
   "metadata": {},
   "source": [
    "iii. Create a 3D NumPy array with random floating-point numbers\n",
    "of shape (3, 5, 3)?"
   ]
  },
  {
   "cell_type": "code",
   "execution_count": 3,
   "id": "06e4336d",
   "metadata": {},
   "outputs": [
    {
     "name": "stdout",
     "output_type": "stream",
     "text": [
      "[[[0.01131142 0.19471496 0.96825808]\n",
      "  [0.16268103 0.58660874 0.66538746]\n",
      "  [0.74996019 0.52923851 0.0328556 ]\n",
      "  [0.42031793 0.530691   0.43148926]\n",
      "  [0.45987031 0.98960424 0.57602951]]\n",
      "\n",
      " [[0.29270575 0.55967295 0.64614382]\n",
      "  [0.30198146 0.71187756 0.37224803]\n",
      "  [0.32948231 0.050123   0.46010526]\n",
      "  [0.10774958 0.92045616 0.6352533 ]\n",
      "  [0.37300618 0.2565621  0.46652874]]\n",
      "\n",
      " [[0.26462708 0.4565455  0.06706433]\n",
      "  [0.86266785 0.37093373 0.11488235]\n",
      "  [0.49325367 0.40277883 0.34961567]\n",
      "  [0.21581648 0.88994597 0.35615816]\n",
      "  [0.47627401 0.03753201 0.74228806]]]\n"
     ]
    }
   ],
   "source": [
    "arr3=np.random.rand(3,5,3)\n",
    "print(arr3)"
   ]
  },
  {
   "cell_type": "markdown",
   "id": "9d4268a9",
   "metadata": {},
   "source": [
    "2. Display the shape, size, and datatype of each array."
   ]
  },
  {
   "cell_type": "code",
   "execution_count": 7,
   "id": "66392176",
   "metadata": {},
   "outputs": [
    {
     "name": "stdout",
     "output_type": "stream",
     "text": [
      "Shape: (10,)\n",
      "Size: 10\n",
      "Datatype: int64\n",
      "Shape: (3, 3)\n",
      "Size: 9\n",
      "Datatype: int64\n",
      "Shape: (3, 5, 3)\n",
      "Size: 45\n",
      "Datatype: float64\n"
     ]
    }
   ],
   "source": [
    "def display(array):\n",
    "    print(f\"Shape: {array.shape}\")\n",
    "    print(f\"Size: {array.size}\")\n",
    "    print(f\"Datatype: {array.dtype}\")\n",
    "\n",
    "display(arr1)\n",
    "display(arr2)\n",
    "display(arr3)"
   ]
  },
  {
   "cell_type": "markdown",
   "id": "f9770ea6",
   "metadata": {},
   "source": [
    "Task 2-> Array Indexing and Slicing\n",
    "1. Create a NumPy array from the following list:\n",
    "data = [10, 20, 30, 40, 50, 60, 70, 80, 90]"
   ]
  },
  {
   "cell_type": "code",
   "execution_count": 8,
   "id": "71c5588a",
   "metadata": {},
   "outputs": [
    {
     "name": "stdout",
     "output_type": "stream",
     "text": [
      "[10 20 30 40 50 60 70 80 90]\n"
     ]
    }
   ],
   "source": [
    "data=[10, 20, 30, 40, 50, 60, 70, 80, 90]\n",
    "arr=np.array(data)\n",
    "print(arr)"
   ]
  },
  {
   "cell_type": "markdown",
   "id": "05cc4de8",
   "metadata": {},
   "source": [
    "2. Write a Python program to:\n",
    "3. Perform the above operations and display the results\n",
    "i. Retrieve the first three elements of the array."
   ]
  },
  {
   "cell_type": "code",
   "execution_count": 9,
   "id": "350f6691",
   "metadata": {},
   "outputs": [
    {
     "name": "stdout",
     "output_type": "stream",
     "text": [
      "[10 20 30]\n"
     ]
    }
   ],
   "source": [
    "print(arr[:3])"
   ]
  },
  {
   "cell_type": "markdown",
   "id": "dee1aeb9",
   "metadata": {},
   "source": [
    "ii. Retrieve every alternate element of the array."
   ]
  },
  {
   "cell_type": "code",
   "execution_count": 10,
   "id": "69ea93ab",
   "metadata": {},
   "outputs": [
    {
     "name": "stdout",
     "output_type": "stream",
     "text": [
      "[10 30 50 70 90]\n"
     ]
    }
   ],
   "source": [
    "print(arr[::2])"
   ]
  },
  {
   "cell_type": "markdown",
   "id": "0a402d5f",
   "metadata": {},
   "source": [
    "iii. Reverse the array.\n"
   ]
  },
  {
   "cell_type": "code",
   "execution_count": 11,
   "id": "1308ed66",
   "metadata": {},
   "outputs": [
    {
     "name": "stdout",
     "output_type": "stream",
     "text": [
      "[90 80 70 60 50 40 30 20 10]\n"
     ]
    }
   ],
   "source": [
    "print(arr[::-1])"
   ]
  },
  {
   "cell_type": "markdown",
   "id": "e48fbdd0",
   "metadata": {},
   "source": [
    "Task 3-> Mathematical Operations\n",
    "1. Create two NumPy arrays, A and B, each with 5 random integers\n",
    "between 1 and 20.\n"
   ]
  },
  {
   "cell_type": "code",
   "execution_count": 13,
   "id": "1b4def90",
   "metadata": {},
   "outputs": [
    {
     "name": "stdout",
     "output_type": "stream",
     "text": [
      "[14  1  8  6 11]\n",
      "[ 1  4 19 16  2]\n"
     ]
    }
   ],
   "source": [
    "A=np.random.randint(1,21,5)\n",
    "B=np.random.randint(1,21,5)\n",
    "print(A)\n",
    "print(B)"
   ]
  },
  {
   "cell_type": "markdown",
   "id": "eda668a8",
   "metadata": {},
   "source": [
    "2. Write a Python program to:\n",
    "i. Add, subtract, multiply, and divide the two arrays elementwise.\n"
   ]
  },
  {
   "cell_type": "code",
   "execution_count": 14,
   "id": "b865c7fd",
   "metadata": {},
   "outputs": [
    {
     "name": "stdout",
     "output_type": "stream",
     "text": [
      "\n",
      "Addition: [15  5 27 22 13]\n",
      "Subtraction: [ 13  -3 -11 -10   9]\n",
      "Multiplication: [ 14   4 152  96  22]\n",
      "Division: [14.          0.25        0.42105263  0.375       5.5       ]\n"
     ]
    }
   ],
   "source": [
    "print(\"\\nAddition:\", A + B)\n",
    "print(\"Subtraction:\", A - B)\n",
    "print(\"Multiplication:\", A * B)\n",
    "print(\"Division:\", A / B)"
   ]
  },
  {
   "cell_type": "markdown",
   "id": "798b64cf",
   "metadata": {},
   "source": [
    "ii. Compute the dot product of the arrays."
   ]
  },
  {
   "cell_type": "code",
   "execution_count": 15,
   "id": "550374f8",
   "metadata": {},
   "outputs": [
    {
     "name": "stdout",
     "output_type": "stream",
     "text": [
      "288\n"
     ]
    }
   ],
   "source": [
    "DotProduct=np.dot(A,B)\n",
    "print(DotProduct)"
   ]
  },
  {
   "cell_type": "markdown",
   "id": "66ca6e69",
   "metadata": {},
   "source": [
    "iii. Find the mean, median, standard deviation, and variance of\n",
    "array A."
   ]
  },
  {
   "cell_type": "code",
   "execution_count": 16,
   "id": "b8ba122f",
   "metadata": {},
   "outputs": [
    {
     "name": "stdout",
     "output_type": "stream",
     "text": [
      "8.0\n",
      "8.0\n",
      "4.427188724235731\n",
      "19.6\n"
     ]
    }
   ],
   "source": [
    "print(np.mean(A))\n",
    "print(np.median(A))\n",
    "print(np.std(A))\n",
    "print(np.var(A))"
   ]
  },
  {
   "cell_type": "markdown",
   "id": "b21872de",
   "metadata": {},
   "source": [
    "iv. Identify the maximum and minimum values in array B and\n",
    "their indices."
   ]
  },
  {
   "cell_type": "code",
   "execution_count": 17,
   "id": "040ebf55",
   "metadata": {},
   "outputs": [
    {
     "name": "stdout",
     "output_type": "stream",
     "text": [
      "19 2\n",
      "1 0\n"
     ]
    }
   ],
   "source": [
    "print(np.max(B),np.argmax(B))\n",
    "print(np.min(B),np.argmin(B))"
   ]
  },
  {
   "cell_type": "markdown",
   "id": "290e8a34",
   "metadata": {},
   "source": [
    "Task 4-> Reshaping and Transposing\n",
    "1. Create a 1D NumPy array of 12 integers ranging from 1 to 12."
   ]
  },
  {
   "cell_type": "code",
   "execution_count": 18,
   "id": "094a764b",
   "metadata": {},
   "outputs": [
    {
     "name": "stdout",
     "output_type": "stream",
     "text": [
      "[ 1  2  3  4  5  6  7  8  9 10 11 12]\n"
     ]
    }
   ],
   "source": [
    "arr=np.arange(1,13)\n",
    "print(arr)"
   ]
  },
  {
   "cell_type": "markdown",
   "id": "24a12974",
   "metadata": {},
   "source": [
    "2. Write a Python program to:\n",
    "i. Reshape the array into a 2D array of shape (4, 3)."
   ]
  },
  {
   "cell_type": "code",
   "execution_count": 19,
   "id": "ab9fbceb",
   "metadata": {},
   "outputs": [
    {
     "name": "stdout",
     "output_type": "stream",
     "text": [
      "[[ 1  2  3]\n",
      " [ 4  5  6]\n",
      " [ 7  8  9]\n",
      " [10 11 12]]\n"
     ]
    }
   ],
   "source": [
    "arr2=np.arange(1,13).reshape(4,3)\n",
    "print(arr2)"
   ]
  },
  {
   "cell_type": "markdown",
   "id": "b87d687e",
   "metadata": {},
   "source": [
    "ii. Reshape the array into a 3D array of shape (2, 2, 3)."
   ]
  },
  {
   "cell_type": "code",
   "execution_count": 20,
   "id": "c312dce7",
   "metadata": {},
   "outputs": [
    {
     "name": "stdout",
     "output_type": "stream",
     "text": [
      "[[[ 1  2  3]\n",
      "  [ 4  5  6]]\n",
      "\n",
      " [[ 7  8  9]\n",
      "  [10 11 12]]]\n"
     ]
    }
   ],
   "source": [
    "arr3=np.arange(1,13).reshape(2,2,3)\n",
    "print(arr3)"
   ]
  },
  {
   "cell_type": "markdown",
   "id": "a1c6f74d",
   "metadata": {},
   "source": [
    "iii. Transpose the reshaped 2D array and display its shape."
   ]
  },
  {
   "cell_type": "code",
   "execution_count": 21,
   "id": "d4574cc1",
   "metadata": {},
   "outputs": [
    {
     "name": "stdout",
     "output_type": "stream",
     "text": [
      "[[ 1  4  7 10]\n",
      " [ 2  5  8 11]\n",
      " [ 3  6  9 12]]\n",
      "(3, 4)\n"
     ]
    }
   ],
   "source": [
    "arr2=np.arange(1,13).reshape(4,3).T\n",
    "print(arr2)\n",
    "\n",
    "print(arr2.shape)"
   ]
  },
  {
   "cell_type": "markdown",
   "id": "66c8892c",
   "metadata": {},
   "source": [
    "Task 5-> Boolean Masking and Filtering\n",
    "1. Create a NumPy array with 15 random integers between 10 and 50."
   ]
  },
  {
   "cell_type": "code",
   "execution_count": 22,
   "id": "b19d0f7e",
   "metadata": {},
   "outputs": [
    {
     "name": "stdout",
     "output_type": "stream",
     "text": [
      "[25 42 45 49 22 27 35 18 49 43 29 30 34 23 14]\n"
     ]
    }
   ],
   "source": [
    "arr=np.random.randint(10,51,15)\n",
    "print(arr)"
   ]
  },
  {
   "cell_type": "markdown",
   "id": "9cd773b9",
   "metadata": {},
   "source": [
    "2. Write a Python program to:\n",
    "i. Find all elements greater than 25."
   ]
  },
  {
   "cell_type": "code",
   "execution_count": 23,
   "id": "0e6bd35d",
   "metadata": {},
   "outputs": [
    {
     "name": "stdout",
     "output_type": "stream",
     "text": [
      "[42 45 49 27 35 49 43 29 30 34]\n"
     ]
    }
   ],
   "source": [
    "print(arr[arr>25])"
   ]
  },
  {
   "cell_type": "markdown",
   "id": "c7cbe02e",
   "metadata": {},
   "source": [
    "ii. Replace all elements less than 30 with 0."
   ]
  },
  {
   "cell_type": "code",
   "execution_count": 24,
   "id": "ea3fb031",
   "metadata": {},
   "outputs": [
    {
     "name": "stdout",
     "output_type": "stream",
     "text": [
      "[ 0 42 45 49  0  0 35  0 49 43  0 30 34  0  0]\n"
     ]
    }
   ],
   "source": [
    "arr2=arr.copy()\n",
    "arr2[arr2<30]=0\n",
    "print(arr2)"
   ]
  },
  {
   "cell_type": "markdown",
   "id": "7cfa0f36",
   "metadata": {},
   "source": [
    "iii. Count the number of elements divisible by 5."
   ]
  },
  {
   "cell_type": "code",
   "execution_count": 25,
   "id": "898b0088",
   "metadata": {},
   "outputs": [
    {
     "name": "stdout",
     "output_type": "stream",
     "text": [
      "[25 45 35 30]\n",
      "4\n"
     ]
    }
   ],
   "source": [
    "count=arr[(arr%5==0)&(arr!=0)]\n",
    "print(count)\n",
    "print(count.size)"
   ]
  },
  {
   "cell_type": "markdown",
   "id": "b72a61d0",
   "metadata": {},
   "source": [
    "Task 6-> Working with Built-in Functions\n",
    "1. Use NumPy's built-in functions to:\n",
    "i. Create an array of 10 equally spaced values between 0 and 1."
   ]
  },
  {
   "cell_type": "code",
   "execution_count": 26,
   "id": "27e6e86a",
   "metadata": {},
   "outputs": [
    {
     "name": "stdout",
     "output_type": "stream",
     "text": [
      "[0.         0.11111111 0.22222222 0.33333333 0.44444444 0.55555556\n",
      " 0.66666667 0.77777778 0.88888889 1.        ]\n"
     ]
    }
   ],
   "source": [
    "arr=np.linspace(0,1,10)\n",
    "print(arr)"
   ]
  },
  {
   "cell_type": "markdown",
   "id": "6315a809",
   "metadata": {},
   "source": [
    "ii. Create an identity matrix of size 4x4."
   ]
  },
  {
   "cell_type": "code",
   "execution_count": 27,
   "id": "cb76c7fc",
   "metadata": {},
   "outputs": [
    {
     "name": "stdout",
     "output_type": "stream",
     "text": [
      "[[1. 0. 0. 0.]\n",
      " [0. 1. 0. 0.]\n",
      " [0. 0. 1. 0.]\n",
      " [0. 0. 0. 1.]]\n"
     ]
    }
   ],
   "source": [
    "arr2=np.eye(4)\n",
    "print(arr2)"
   ]
  },
  {
   "cell_type": "markdown",
   "id": "b6658e69",
   "metadata": {},
   "source": [
    "iii. Generate a 1D array of 20 random integers between 1 and 100,\n",
    "sort it, and find the 5 largest elements."
   ]
  },
  {
   "cell_type": "code",
   "execution_count": 29,
   "id": "20e8b158",
   "metadata": {},
   "outputs": [
    {
     "name": "stdout",
     "output_type": "stream",
     "text": [
      "[ 57  79  49  56  82  11   5  86  65  34  44  47  64 100  25  57   8  44\n",
      "  92  65]\n",
      "[  5   8  11  25  34  44  44  47  49  56  57  57  64  65  65  79  82  86\n",
      "  92 100]\n",
      "[ 79  82  86  92 100]\n"
     ]
    }
   ],
   "source": [
    "arr3=np.random.randint(1,101,20)\n",
    "print(arr3)\n",
    "sorted=np.sort(arr3)\n",
    "print(sorted)\n",
    "print(sorted[-5:])"
   ]
  },
  {
   "cell_type": "markdown",
   "id": "9d627455",
   "metadata": {},
   "source": [
    "Task 7-> Generic\n",
    "1. Create a Python program that:\n",
    "i. Generates two large random arrays of size (100, 100).\n",
    "ii. Performs matrix multiplication on the two arrays.\n",
    "iii. Finds the determinant and inverse of the resulting matrix (if\n",
    "possible).\n",
    "iv. Measures the time taken to complete these operations."
   ]
  },
  {
   "cell_type": "code",
   "execution_count": 31,
   "id": "e392a17f",
   "metadata": {},
   "outputs": [
    {
     "name": "stdout",
     "output_type": "stream",
     "text": [
      "The product of matrix is:  [[19.96686579 22.68934071 22.30651384 ... 23.02394085 25.41672338\n",
      "  24.81947836]\n",
      " [20.68808791 22.5967209  21.26585524 ... 22.29355571 24.22328648\n",
      "  25.81657305]\n",
      " [23.16257785 24.59818271 24.01188825 ... 25.00069411 24.73334241\n",
      "  27.47635747]\n",
      " ...\n",
      " [23.58444794 25.3960149  24.34942976 ... 26.14660393 28.54283717\n",
      "  27.61299228]\n",
      " [21.71890901 23.48638985 22.47976262 ... 24.09503614 26.62470176\n",
      "  27.2027663 ]\n",
      " [22.88185613 24.78619875 22.62198361 ... 25.47408218 27.22020269\n",
      "  29.05436717]]\n",
      "Matrix Multiplication is completed in 0.0005 seconds.\n",
      "\n",
      "The Determinant of matrix is:  2.966373648363399e+50\n",
      "Time taken to calculate determinant is 0.0003 seconds\n",
      "\n",
      "The inverse of matrix is:  [[ 1.13989183  0.17773254  0.42885178 ... -1.57040198  1.32144492\n",
      "  -0.1355969 ]\n",
      " [ 0.21880063 -0.23336564  0.77400138 ... -1.01217474  1.65051828\n",
      "   0.27975596]\n",
      " [ 3.429642    1.35347498 -0.47644685 ... -1.32077298  1.12751015\n",
      "   0.30234477]\n",
      " ...\n",
      " [ 1.09704254  0.4090544   0.51147716 ... -1.61189918  1.6095635\n",
      "  -0.0612645 ]\n",
      " [ 3.21094051  1.46287149  0.06945359 ... -1.35711281  1.22021646\n",
      "   0.09987209]\n",
      " [ 0.2924655   0.11974093 -0.61842185 ...  0.90029208 -1.67773732\n",
      "   0.23991757]]\n",
      "Time taken to calculate Inverse is 0.4296 seconds\n",
      "\n"
     ]
    }
   ],
   "source": [
    "import numpy as np\n",
    "import seaborn as sns\n",
    "import matplotlib.pyplot as plt\n",
    "import time\n",
    "\n",
    "#Two random arrays.\n",
    "A = np.random.rand(100, 100)    \n",
    "B = np.random.rand(100, 100)\n",
    "\n",
    "\n",
    "start_time = time.time()\n",
    "product = np.dot(A, B)  \n",
    "\n",
    " #Matix Multiplication\n",
    "Multiplication_time=time.time()-start_time\n",
    "print(\"The product of matrix is: \",product)\n",
    "print(f\"Matrix Multiplication is completed in {Multiplication_time:.4f} seconds.\")\n",
    "print()\n",
    "\n",
    "start_time = time.time()\n",
    "\n",
    "#Determinant of Matrix.\n",
    "det=np.linalg.det(product)      \n",
    "Determinant_time=time.time()-start_time\n",
    "print(\"The Determinant of matrix is: \",det)\n",
    "print(f\"Time taken to calculate determinant is {Determinant_time:.4f} seconds\")\n",
    "print()\n",
    "\n",
    "if np.isclose(det, 0):\n",
    "    print(\"The Matrix is singular and cannot be inverted.\")\n",
    "else:\n",
    "    start_time=time.time()\n",
    "\n",
    "    #Inverse of Matrix.\n",
    "    inverse=np.linalg.inv(product)      \n",
    "    Inverse_time=time.time()-start_time\n",
    "    print(\"The inverse of matrix is: \",inverse)\n",
    "    print(f\"Time taken to calculate Inverse is {Inverse_time:.4f} seconds\")\n",
    "    print()\n",
    "\n",
    "\n"
   ]
  }
 ],
 "metadata": {
  "kernelspec": {
   "display_name": "Python 3",
   "language": "python",
   "name": "python3"
  },
  "language_info": {
   "codemirror_mode": {
    "name": "ipython",
    "version": 3
   },
   "file_extension": ".py",
   "mimetype": "text/x-python",
   "name": "python",
   "nbconvert_exporter": "python",
   "pygments_lexer": "ipython3",
   "version": "3.13.5"
  }
 },
 "nbformat": 4,
 "nbformat_minor": 5
}
