{
 "cells": [
  {
   "cell_type": "markdown",
   "id": "00698188",
   "metadata": {},
   "source": [
    "Task 1-> Creating Arrays\n",
    "1. Write a Python program to:\n",
    "i. Create a 1D NumPy array of 10 integers ranging from 1 to 10."
   ]
  },
  {
   "cell_type": "code",
   "execution_count": null,
   "id": "784fedeb",
   "metadata": {},
   "outputs": [
    {
     "name": "stdout",
     "output_type": "stream",
     "text": [
      "[ 1  2  3  4  5  6  7  8  9 10]\n"
     ]
    }
   ],
   "source": [
    "import numpy as np\n",
    "arr1=np.arange(1,11)\n",
    "print(arr1)"
   ]
  },
  {
   "cell_type": "markdown",
   "id": "cab3a2fd",
   "metadata": {},
   "source": [
    "ii. Create a 2D NumPy array of shape (3, 3) with integers from 1\n",
    "to 9?"
   ]
  },
  {
   "cell_type": "code",
   "execution_count": null,
   "id": "249648b5",
   "metadata": {},
   "outputs": [
    {
     "name": "stdout",
     "output_type": "stream",
     "text": [
      "[[1 2 3]\n",
      " [4 5 6]\n",
      " [7 8 9]]\n"
     ]
    }
   ],
   "source": [
    "arr2=np.arange(1,10).reshape(3,3)\n",
    "print(arr2)"
   ]
  },
  {
   "cell_type": "markdown",
   "id": "dd6c8c3c",
   "metadata": {},
   "source": [
    "iii. Create a 3D NumPy array with random floating-point numbers\n",
    "of shape (3, 5, 3)?"
   ]
  },
  {
   "cell_type": "code",
   "execution_count": null,
   "id": "303bfc31",
   "metadata": {},
   "outputs": [
    {
     "name": "stdout",
     "output_type": "stream",
     "text": [
      "[[[0.01131142 0.19471496 0.96825808]\n",
      "  [0.16268103 0.58660874 0.66538746]\n",
      "  [0.74996019 0.52923851 0.0328556 ]\n",
      "  [0.42031793 0.530691   0.43148926]\n",
      "  [0.45987031 0.98960424 0.57602951]]\n",
      "\n",
      " [[0.29270575 0.55967295 0.64614382]\n",
      "  [0.30198146 0.71187756 0.37224803]\n",
      "  [0.32948231 0.050123   0.46010526]\n",
      "  [0.10774958 0.92045616 0.6352533 ]\n",
      "  [0.37300618 0.2565621  0.46652874]]\n",
      "\n",
      " [[0.26462708 0.4565455  0.06706433]\n",
      "  [0.86266785 0.37093373 0.11488235]\n",
      "  [0.49325367 0.40277883 0.34961567]\n",
      "  [0.21581648 0.88994597 0.35615816]\n",
      "  [0.47627401 0.03753201 0.74228806]]]\n"
     ]
    }
   ],
   "source": [
    "arr3=np.random.rand(3,5,3)\n",
    "print(arr3)"
   ]
  },
  {
   "cell_type": "markdown",
   "id": "079ce7e9",
   "metadata": {},
   "source": [
    "2. Display the shape, size, and datatype of each array."
   ]
  },
  {
   "cell_type": "code",
   "execution_count": null,
   "id": "ed43f55a",
   "metadata": {},
   "outputs": [
    {
     "name": "stdout",
     "output_type": "stream",
     "text": [
      "Shape: (10,)\n",
      "Size: 10\n",
      "Datatype: int64\n",
      "Shape: (3, 3)\n",
      "Size: 9\n",
      "Datatype: int64\n",
      "Shape: (3, 5, 3)\n",
      "Size: 45\n",
      "Datatype: float64\n"
     ]
    }
   ],
   "source": [
    "def display(array):\n",
    "    print(f\"Shape: {array.shape}\")\n",
    "    print(f\"Size: {array.size}\")\n",
    "    print(f\"Datatype: {array.dtype}\")\n",
    "\n",
    "display(arr1)\n",
    "display(arr2)\n",
    "display(arr3)"
   ]
  },
  {
   "cell_type": "markdown",
   "id": "481677ca",
   "metadata": {},
   "source": [
    "Task 2-> Array Indexing and Slicing\n",
    "1. Create a NumPy array from the following list:\n",
    "data = [10, 20, 30, 40, 50, 60, 70, 80, 90]"
   ]
  },
  {
   "cell_type": "code",
   "execution_count": null,
   "id": "302e05a8",
   "metadata": {},
   "outputs": [
    {
     "name": "stdout",
     "output_type": "stream",
     "text": [
      "[10 20 30 40 50 60 70 80 90]\n"
     ]
    }
   ],
   "source": [
    "data=[10, 20, 30, 40, 50, 60, 70, 80, 90]\n",
    "arr=np.array(data)\n",
    "print(arr)"
   ]
  },
  {
   "cell_type": "markdown",
   "id": "050012af",
   "metadata": {},
   "source": [
    "2. Write a Python program to:\n",
    "3. Perform the above operations and display the results\n",
    "i. Retrieve the first three elements of the array."
   ]
  },
  {
   "cell_type": "code",
   "execution_count": null,
   "id": "0efd3fe1",
   "metadata": {},
   "outputs": [
    {
     "name": "stdout",
     "output_type": "stream",
     "text": [
      "[10 20 30]\n"
     ]
    }
   ],
   "source": [
    "print(arr[:3])"
   ]
  },
  {
   "cell_type": "markdown",
   "id": "1e2d86bc",
   "metadata": {},
   "source": [
    "ii. Retrieve every alternate element of the array."
   ]
  },
  {
   "cell_type": "code",
   "execution_count": null,
   "id": "aa4945aa",
   "metadata": {},
   "outputs": [
    {
     "name": "stdout",
     "output_type": "stream",
     "text": [
      "[10 30 50 70 90]\n"
     ]
    }
   ],
   "source": [
    "print(arr[::2])"
   ]
  },
  {
   "cell_type": "markdown",
   "id": "cf0c40d3",
   "metadata": {},
   "source": [
    "iii. Reverse the array.\n"
   ]
  },
  {
   "cell_type": "code",
   "execution_count": null,
   "id": "a26b2acf",
   "metadata": {},
   "outputs": [
    {
     "name": "stdout",
     "output_type": "stream",
     "text": [
      "[90 80 70 60 50 40 30 20 10]\n"
     ]
    }
   ],
   "source": [
    "print(arr[::-1])"
   ]
  },
  {
   "cell_type": "markdown",
   "id": "33083343",
   "metadata": {},
   "source": [
    "Task 3-> Mathematical Operations\n",
    "1. Create two NumPy arrays, A and B, each with 5 random integers\n",
    "between 1 and 20.\n"
   ]
  },
  {
   "cell_type": "code",
   "execution_count": null,
   "id": "f80b7b92",
   "metadata": {},
   "outputs": [
    {
     "name": "stdout",
     "output_type": "stream",
     "text": [
      "[14  1  8  6 11]\n",
      "[ 1  4 19 16  2]\n"
     ]
    }
   ],
   "source": [
    "A=np.random.randint(1,21,5)\n",
    "B=np.random.randint(1,21,5)\n",
    "print(A)\n",
    "print(B)"
   ]
  },
  {
   "cell_type": "markdown",
   "id": "5ac4982b",
   "metadata": {},
   "source": [
    "2. Write a Python program to:\n",
    "i. Add, subtract, multiply, and divide the two arrays elementwise.\n"
   ]
  },
  {
   "cell_type": "code",
   "execution_count": null,
   "id": "a1b7f43b",
   "metadata": {},
   "outputs": [
    {
     "name": "stdout",
     "output_type": "stream",
     "text": [
      "\n",
      "Addition: [15  5 27 22 13]\n",
      "Subtraction: [ 13  -3 -11 -10   9]\n",
      "Multiplication: [ 14   4 152  96  22]\n",
      "Division: [14.          0.25        0.42105263  0.375       5.5       ]\n"
     ]
    }
   ],
   "source": [
    "print(\"\\nAddition:\", A + B)\n",
    "print(\"Subtraction:\", A - B)\n",
    "print(\"Multiplication:\", A * B)\n",
    "print(\"Division:\", A / B)"
   ]
  },
  {
   "cell_type": "markdown",
   "id": "1ae576bb",
   "metadata": {},
   "source": [
    "ii. Compute the dot product of the arrays."
   ]
  },
  {
   "cell_type": "code",
   "execution_count": null,
   "id": "ceda0c48",
   "metadata": {},
   "outputs": [
    {
     "name": "stdout",
     "output_type": "stream",
     "text": [
      "288\n"
     ]
    }
   ],
   "source": [
    "DotProduct=np.dot(A,B)\n",
    "print(DotProduct)"
   ]
  },
  {
   "cell_type": "markdown",
   "id": "0a2e13bf",
   "metadata": {},
   "source": [
    "iii. Find the mean, median, standard deviation, and variance of\n",
    "array A."
   ]
  },
  {
   "cell_type": "code",
   "execution_count": null,
   "id": "0d8d16e7",
   "metadata": {},
   "outputs": [
    {
     "name": "stdout",
     "output_type": "stream",
     "text": [
      "8.0\n",
      "8.0\n",
      "4.427188724235731\n",
      "19.6\n"
     ]
    }
   ],
   "source": [
    "print(np.mean(A))\n",
    "print(np.median(A))\n",
    "print(np.std(A))\n",
    "print(np.var(A))"
   ]
  },
  {
   "cell_type": "markdown",
   "id": "c6c208e6",
   "metadata": {},
   "source": [
    "iv. Identify the maximum and minimum values in array B and\n",
    "their indices."
   ]
  },
  {
   "cell_type": "code",
   "execution_count": null,
   "id": "4e27b677",
   "metadata": {},
   "outputs": [
    {
     "name": "stdout",
     "output_type": "stream",
     "text": [
      "19 2\n",
      "1 0\n"
     ]
    }
   ],
   "source": [
    "print(np.max(B),np.argmax(B))\n",
    "print(np.min(B),np.argmin(B))"
   ]
  },
  {
   "cell_type": "markdown",
   "id": "52425cd2",
   "metadata": {},
   "source": [
    "Task 4-> Reshaping and Transposing\n",
    "1. Create a 1D NumPy array of 12 integers ranging from 1 to 12."
   ]
  },
  {
   "cell_type": "code",
   "execution_count": null,
   "id": "143a36ab",
   "metadata": {},
   "outputs": [
    {
     "name": "stdout",
     "output_type": "stream",
     "text": [
      "[ 1  2  3  4  5  6  7  8  9 10 11 12]\n"
     ]
    }
   ],
   "source": [
    "arr=np.arange(1,13)\n",
    "print(arr)"
   ]
  },
  {
   "cell_type": "markdown",
   "id": "b4fae40b",
   "metadata": {},
   "source": [
    "2. Write a Python program to:\n",
    "i. Reshape the array into a 2D array of shape (4, 3)."
   ]
  },
  {
   "cell_type": "code",
   "execution_count": null,
   "id": "80a608f4",
   "metadata": {},
   "outputs": [
    {
     "name": "stdout",
     "output_type": "stream",
     "text": [
      "[[ 1  2  3]\n",
      " [ 4  5  6]\n",
      " [ 7  8  9]\n",
      " [10 11 12]]\n"
     ]
    }
   ],
   "source": [
    "arr2=np.arange(1,13).reshape(4,3)\n",
    "print(arr2)"
   ]
  },
  {
   "cell_type": "markdown",
   "id": "87fd0f02",
   "metadata": {},
   "source": [
    "ii. Reshape the array into a 3D array of shape (2, 2, 3)."
   ]
  },
  {
   "cell_type": "code",
   "execution_count": null,
   "id": "92fb2993",
   "metadata": {},
   "outputs": [
    {
     "name": "stdout",
     "output_type": "stream",
     "text": [
      "[[[ 1  2  3]\n",
      "  [ 4  5  6]]\n",
      "\n",
      " [[ 7  8  9]\n",
      "  [10 11 12]]]\n"
     ]
    }
   ],
   "source": [
    "arr3=np.arange(1,13).reshape(2,2,3)\n",
    "print(arr3)"
   ]
  },
  {
   "cell_type": "markdown",
   "id": "2f5052c1",
   "metadata": {},
   "source": [
    "iii. Transpose the reshaped 2D array and display its shape."
   ]
  },
  {
   "cell_type": "code",
   "execution_count": null,
   "id": "f9991b59",
   "metadata": {},
   "outputs": [
    {
     "name": "stdout",
     "output_type": "stream",
     "text": [
      "[[ 1  4  7 10]\n",
      " [ 2  5  8 11]\n",
      " [ 3  6  9 12]]\n",
      "(3, 4)\n"
     ]
    }
   ],
   "source": [
    "arr2=np.arange(1,13).reshape(4,3).T\n",
    "print(arr2)\n",
    "\n",
    "print(arr2.shape)"
   ]
  },
  {
   "cell_type": "markdown",
   "id": "3ae6be1a",
   "metadata": {},
   "source": [
    "Task 5-> Boolean Masking and Filtering\n",
    "1. Create a NumPy array with 15 random integers between 10 and 50."
   ]
  },
  {
   "cell_type": "code",
   "execution_count": null,
   "id": "67762ef6",
   "metadata": {},
   "outputs": [
    {
     "name": "stdout",
     "output_type": "stream",
     "text": [
      "[25 42 45 49 22 27 35 18 49 43 29 30 34 23 14]\n"
     ]
    }
   ],
   "source": [
    "arr=np.random.randint(10,51,15)\n",
    "print(arr)"
   ]
  },
  {
   "cell_type": "markdown",
   "id": "2b6be6cb",
   "metadata": {},
   "source": [
    "2. Write a Python program to:\n",
    "i. Find all elements greater than 25."
   ]
  },
  {
   "cell_type": "code",
   "execution_count": null,
   "id": "ee5db693",
   "metadata": {},
   "outputs": [
    {
     "name": "stdout",
     "output_type": "stream",
     "text": [
      "[42 45 49 27 35 49 43 29 30 34]\n"
     ]
    }
   ],
   "source": [
    "print(arr[arr>25])"
   ]
  },
  {
   "cell_type": "markdown",
   "id": "6e0b0b2b",
   "metadata": {},
   "source": [
    "ii. Replace all elements less than 30 with 0."
   ]
  },
  {
   "cell_type": "code",
   "execution_count": null,
   "id": "6d3bc0a8",
   "metadata": {},
   "outputs": [
    {
     "name": "stdout",
     "output_type": "stream",
     "text": [
      "[ 0 42 45 49  0  0 35  0 49 43  0 30 34  0  0]\n"
     ]
    }
   ],
   "source": [
    "arr2=arr.copy()\n",
    "arr2[arr2<30]=0\n",
    "print(arr2)"
   ]
  },
  {
   "cell_type": "markdown",
   "id": "b80d2059",
   "metadata": {},
   "source": [
    "iii. Count the number of elements divisible by 5."
   ]
  },
  {
   "cell_type": "code",
   "execution_count": null,
   "id": "65e55c71",
   "metadata": {},
   "outputs": [
    {
     "name": "stdout",
     "output_type": "stream",
     "text": [
      "[25 45 35 30]\n",
      "4\n"
     ]
    }
   ],
   "source": [
    "count=arr[(arr%5==0)&(arr!=0)]\n",
    "print(count)\n",
    "print(count.size)"
   ]
  },
  {
   "cell_type": "markdown",
   "id": "622139ee",
   "metadata": {},
   "source": [
    "Task 6-> Working with Built-in Functions\n",
    "1. Use NumPy's built-in functions to:\n",
    "i. Create an array of 10 equally spaced values between 0 and 1."
   ]
  },
  {
   "cell_type": "code",
   "execution_count": null,
   "id": "bd0c508e",
   "metadata": {},
   "outputs": [
    {
     "name": "stdout",
     "output_type": "stream",
     "text": [
      "[0.         0.11111111 0.22222222 0.33333333 0.44444444 0.55555556\n",
      " 0.66666667 0.77777778 0.88888889 1.        ]\n"
     ]
    }
   ],
   "source": [
    "arr=np.linspace(0,1,10)\n",
    "print(arr)"
   ]
  },
  {
   "cell_type": "markdown",
   "id": "6e7b180a",
   "metadata": {},
   "source": [
    "ii. Create an identity matrix of size 4x4."
   ]
  },
  {
   "cell_type": "code",
   "execution_count": null,
   "id": "706fc909",
   "metadata": {},
   "outputs": [
    {
     "name": "stdout",
     "output_type": "stream",
     "text": [
      "[[1. 0. 0. 0.]\n",
      " [0. 1. 0. 0.]\n",
      " [0. 0. 1. 0.]\n",
      " [0. 0. 0. 1.]]\n"
     ]
    }
   ],
   "source": [
    "arr2=np.eye(4)\n",
    "print(arr2)"
   ]
  },
  {
   "cell_type": "markdown",
   "id": "69e19973",
   "metadata": {},
   "source": [
    "iii. Generate a 1D array of 20 random integers between 1 and 100,\n",
    "sort it, and find the 5 largest elements."
   ]
  },
  {
   "cell_type": "code",
   "execution_count": null,
   "id": "5203e272",
   "metadata": {},
   "outputs": [
    {
     "name": "stdout",
     "output_type": "stream",
     "text": [
      "[ 57  79  49  56  82  11   5  86  65  34  44  47  64 100  25  57   8  44\n",
      "  92  65]\n",
      "[  5   8  11  25  34  44  44  47  49  56  57  57  64  65  65  79  82  86\n",
      "  92 100]\n",
      "[ 79  82  86  92 100]\n"
     ]
    }
   ],
   "source": [
    "arr3=np.random.randint(1,101,20)\n",
    "print(arr3)\n",
    "sorted=np.sort(arr3)\n",
    "print(sorted)\n",
    "print(sorted[-5:])"
   ]
  },
  {
   "cell_type": "markdown",
   "id": "0449117c",
   "metadata": {},
   "source": [
    "Task 7-> Generic\n",
    "1. Create a Python program that:\n",
    "i. Generates two large random arrays of size (100, 100).\n",
    "ii. Performs matrix multiplication on the two arrays.\n",
    "iii. Finds the determinant and inverse of the resulting matrix (if\n",
    "possible).\n",
    "iv. Measures the time taken to complete these operations."
   ]
  },
  {
   "cell_type": "code",
   "execution_count": null,
   "id": "96527295",
   "metadata": {},
   "outputs": [
    {
     "name": "stdout",
     "output_type": "stream",
     "text": [
      "The product of matrix is:  [[19.96686579 22.68934071 22.30651384 ... 23.02394085 25.41672338\n",
      "  24.81947836]\n",
      " [20.68808791 22.5967209  21.26585524 ... 22.29355571 24.22328648\n",
      "  25.81657305]\n",
      " [23.16257785 24.59818271 24.01188825 ... 25.00069411 24.73334241\n",
      "  27.47635747]\n",
      " ...\n",
      " [23.58444794 25.3960149  24.34942976 ... 26.14660393 28.54283717\n",
      "  27.61299228]\n",
      " [21.71890901 23.48638985 22.47976262 ... 24.09503614 26.62470176\n",
      "  27.2027663 ]\n",
      " [22.88185613 24.78619875 22.62198361 ... 25.47408218 27.22020269\n",
      "  29.05436717]]\n",
      "Matrix Multiplication is completed in 0.0005 seconds.\n",
      "\n",
      "The Determinant of matrix is:  2.966373648363399e+50\n",
      "Time taken to calculate determinant is 0.0003 seconds\n",
      "\n",
      "The inverse of matrix is:  [[ 1.13989183  0.17773254  0.42885178 ... -1.57040198  1.32144492\n",
      "  -0.1355969 ]\n",
      " [ 0.21880063 -0.23336564  0.77400138 ... -1.01217474  1.65051828\n",
      "   0.27975596]\n",
      " [ 3.429642    1.35347498 -0.47644685 ... -1.32077298  1.12751015\n",
      "   0.30234477]\n",
      " ...\n",
      " [ 1.09704254  0.4090544   0.51147716 ... -1.61189918  1.6095635\n",
      "  -0.0612645 ]\n",
      " [ 3.21094051  1.46287149  0.06945359 ... -1.35711281  1.22021646\n",
      "   0.09987209]\n",
      " [ 0.2924655   0.11974093 -0.61842185 ...  0.90029208 -1.67773732\n",
      "   0.23991757]]\n",
      "Time taken to calculate Inverse is 0.4296 seconds\n",
      "\n"
     ]
    }
   ],
   "source": [
    "import numpy as np\n",
    "import seaborn as sns\n",
    "import matplotlib.pyplot as plt\n",
    "import time\n",
    "\n",
    "#Two random arrays.\n",
    "A = np.random.rand(100, 100)    \n",
    "B = np.random.rand(100, 100)\n",
    "\n",
    "\n",
    "start_time = time.time()\n",
    "product = np.dot(A, B)  \n",
    "\n",
    " #Matix Multiplication\n",
    "Multiplication_time=time.time()-start_time\n",
    "print(\"The product of matrix is: \",product)\n",
    "print(f\"Matrix Multiplication is completed in {Multiplication_time:.4f} seconds.\")\n",
    "print()\n",
    "\n",
    "start_time = time.time()\n",
    "\n",
    "#Determinant of Matrix.\n",
    "det=np.linalg.det(product)      \n",
    "Determinant_time=time.time()-start_time\n",
    "print(\"The Determinant of matrix is: \",det)\n",
    "print(f\"Time taken to calculate determinant is {Determinant_time:.4f} seconds\")\n",
    "print()\n",
    "\n",
    "if np.isclose(det, 0):\n",
    "    print(\"The Matrix is singular and cannot be inverted.\")\n",
    "else:\n",
    "    start_time=time.time()\n",
    "\n",
    "    #Inverse of Matrix.\n",
    "    inverse=np.linalg.inv(product)      \n",
    "    Inverse_time=time.time()-start_time\n",
    "    print(\"The inverse of matrix is: \",inverse)\n",
    "    print(f\"Time taken to calculate Inverse is {Inverse_time:.4f} seconds\")\n",
    "    print()\n",
    "\n",
    "\n"
   ]
  }
 ],
 "metadata": {
  "language_info": {
   "name": "python"
  }
 },
 "nbformat": 4,
 "nbformat_minor": 5
}
