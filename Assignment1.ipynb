{
 "cells": [
  {
   "cell_type": "markdown",
   "id": "e1c63a27",
   "metadata": {},
   "source": [
    "Task 1:\n",
    "Write a program to make a custom exception?"
   ]
  },
  {
   "cell_type": "code",
   "execution_count": 1,
   "id": "116c01e9",
   "metadata": {},
   "outputs": [
    {
     "name": "stdout",
     "output_type": "stream",
     "text": [
      "Error: Cannot divide by zero!\n"
     ]
    }
   ],
   "source": [
    "class DivideByZeroError(Exception):\n",
    "    def __init__(self, message=\"Cannot divide by zero!\"):\n",
    "        self.message = message\n",
    "        super().__init__(self.message)\n",
    "\n",
    "def divide(a, b):\n",
    "    if b == 0:\n",
    "        raise DivideByZeroError()\n",
    "    return a / b\n",
    "\n",
    "try:\n",
    "    num1 = int(input())\n",
    "    num2 = int(input())\n",
    "    result = divide(num1, num2)\n",
    "    print(result)\n",
    "except DivideByZeroError as e:\n",
    "    print(\"Error:\", e)\n",
    "# except ValueError:\n",
    "#     print(\"Please enter valid integers only.\")"
   ]
  },
  {
   "cell_type": "markdown",
   "id": "3849e922",
   "metadata": {},
   "source": [
    "Task 2:\n",
    "\n",
    "Write a program to make a 2d array and read and write it in a csv format?"
   ]
  },
  {
   "cell_type": "code",
   "execution_count": 2,
   "id": "f364ca2e",
   "metadata": {},
   "outputs": [
    {
     "name": "stdout",
     "output_type": "stream",
     "text": [
      "[1, 0, 0]\n",
      "[0, 1, 0]\n",
      "[0, 0, 1]\n"
     ]
    }
   ],
   "source": [
    "import csv\n",
    "array = [\n",
    "    [1, 0, 0],\n",
    "    [0, 1, 0],\n",
    "    [0, 0, 1]\n",
    "]\n",
    "# write\n",
    "with open(\"matrix.csv\", mode=\"w\", newline=\"\") as file:\n",
    "    writer = csv.writer(file)\n",
    "    writer.writerows(array)\n",
    "\n",
    "# read\n",
    "array = []\n",
    "with open(\"matrix.csv\", mode=\"r\") as file:\n",
    "    reader = csv.reader(file)\n",
    "    for row in reader:\n",
    "        array.append([int(val) for val in row])\n",
    "\n",
    "for row in array:\n",
    "    print(row)\n"
   ]
  }
 ],
 "metadata": {
  "kernelspec": {
   "display_name": "Python 3",
   "language": "python",
   "name": "python3"
  },
  "language_info": {
   "codemirror_mode": {
    "name": "ipython",
    "version": 3
   },
   "file_extension": ".py",
   "mimetype": "text/x-python",
   "name": "python",
   "nbconvert_exporter": "python",
   "pygments_lexer": "ipython3",
   "version": "3.12.1"
  }
 },
 "nbformat": 4,
 "nbformat_minor": 5
}
